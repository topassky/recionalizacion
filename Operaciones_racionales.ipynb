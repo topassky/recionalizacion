{
  "nbformat": 4,
  "nbformat_minor": 0,
  "metadata": {
    "colab": {
      "name": "Operaciones racionales.ipynb",
      "provenance": [],
      "collapsed_sections": [],
      "authorship_tag": "ABX9TyMZ/OoU7U1kWb438oOO3eWK",
      "include_colab_link": true
    },
    "kernelspec": {
      "name": "python3",
      "display_name": "Python 3"
    }
  },
  "cells": [
    {
      "cell_type": "markdown",
      "metadata": {
        "id": "view-in-github",
        "colab_type": "text"
      },
      "source": [
        "<a href=\"https://colab.research.google.com/github/topassky/recionalizacion/blob/master/Operaciones_racionales.ipynb\" target=\"_parent\"><img src=\"https://colab.research.google.com/assets/colab-badge.svg\" alt=\"Open In Colab\"/></a>"
      ]
    },
    {
      "cell_type": "markdown",
      "metadata": {
        "id": "IRV-2z2D6Pi2",
        "colab_type": "text"
      },
      "source": [
        "**Operaciones racionales**\n"
      ]
    },
    {
      "cell_type": "code",
      "metadata": {
        "id": "tAdo8Njl6cUS",
        "colab_type": "code",
        "colab": {}
      },
      "source": [
        "from sympy import *\n",
        "#Agrego las variables a utilizar\n",
        "x,y,a,b,c,d = symbols('x y a b c d') "
      ],
      "execution_count": 0,
      "outputs": []
    },
    {
      "cell_type": "code",
      "metadata": {
        "id": "M7BrpX7F6u80",
        "colab_type": "code",
        "colab": {}
      },
      "source": [
        "A = (x**2-a**2+2*a*b-b**2)/(x**2+a**2+2*a*x-b**2)"
      ],
      "execution_count": 0,
      "outputs": []
    },
    {
      "cell_type": "code",
      "metadata": {
        "id": "wZnDYj8o7T_x",
        "colab_type": "code",
        "outputId": "78f61748-3516-4c0a-c4b0-ab5a77175fb8",
        "colab": {
          "base_uri": "https://localhost:8080/",
          "height": 34
        }
      },
      "source": [
        "factor(A)"
      ],
      "execution_count": 0,
      "outputs": [
        {
          "output_type": "execute_result",
          "data": {
            "text/plain": [
              "(-a + b + x)/(a + b + x)"
            ]
          },
          "metadata": {
            "tags": []
          },
          "execution_count": 9
        }
      ]
    },
    {
      "cell_type": "markdown",
      "metadata": {
        "id": "vfi6lVfL4hGc",
        "colab_type": "text"
      },
      "source": [
        "**Multiplicación**\n"
      ]
    },
    {
      "cell_type": "code",
      "metadata": {
        "id": "jkLYYxNW4uWX",
        "colab_type": "code",
        "colab": {
          "base_uri": "https://localhost:8080/",
          "height": 34
        },
        "outputId": "6e1b6fa6-6d41-46aa-daca-64c5e4b064cc"
      },
      "source": [
        "A = x**2-x-6\n",
        "B = x**2-4\n",
        "C = 2*x**2-3*x+1\n",
        "D = 3*x**2-x-2\n",
        "E = 3*x**2-4*x-4\n",
        "F = 2*x**2-7*x+3\n",
        "\n",
        "Resultado = (A/B)*(C/D)*(E/F)\n",
        "factor(Resultado)"
      ],
      "execution_count": 4,
      "outputs": [
        {
          "output_type": "execute_result",
          "data": {
            "text/plain": [
              "1"
            ]
          },
          "metadata": {
            "tags": []
          },
          "execution_count": 4
        }
      ]
    },
    {
      "cell_type": "markdown",
      "metadata": {
        "id": "8kA6Qtwu5-L2",
        "colab_type": "text"
      },
      "source": [
        "**División** "
      ]
    },
    {
      "cell_type": "code",
      "metadata": {
        "id": "755xn9E36Cb-",
        "colab_type": "code",
        "colab": {
          "base_uri": "https://localhost:8080/",
          "height": 34
        },
        "outputId": "28d9caef-0e97-4aee-d75a-2e34ce27bf91"
      },
      "source": [
        "A = 2*x**2+19*x-10\n",
        "B = 2*x-1\n",
        "C = 3*x+1\n",
        "D = 6*x**2-x-1\n",
        "Resultado = (A/B)/(C/D)\n",
        "factor(Resultado)"
      ],
      "execution_count": 8,
      "outputs": [
        {
          "output_type": "execute_result",
          "data": {
            "text/plain": [
              "(x + 10)*(2*x - 1)"
            ]
          },
          "metadata": {
            "tags": []
          },
          "execution_count": 8
        }
      ]
    },
    {
      "cell_type": "markdown",
      "metadata": {
        "id": "lovdOJNs67si",
        "colab_type": "text"
      },
      "source": [
        "**Suma y Resta**"
      ]
    },
    {
      "cell_type": "code",
      "metadata": {
        "id": "9jqWP3UE7EV2",
        "colab_type": "code",
        "colab": {
          "base_uri": "https://localhost:8080/",
          "height": 34
        },
        "outputId": "6c236583-fb21-4e72-9323-047b2c1ca17f"
      },
      "source": [
        "A = x\n",
        "B = x+2\n",
        "C = x-1\n",
        "D = 3*x**2+5*x-2\n",
        "E = 1+x\n",
        "F = 1-3*x\n",
        "Resultado = (A/B)+(C/D)-(E/F)\n",
        "factor(Resultado)"
      ],
      "execution_count": 9,
      "outputs": [
        {
          "output_type": "execute_result",
          "data": {
            "text/plain": [
              "(4*x**2 + 3*x + 1)/((x + 2)*(3*x - 1))"
            ]
          },
          "metadata": {
            "tags": []
          },
          "execution_count": 9
        }
      ]
    },
    {
      "cell_type": "markdown",
      "metadata": {
        "id": "-twH7EWk7_PE",
        "colab_type": "text"
      },
      "source": [
        "**Expresiones racionales compuestas**"
      ]
    },
    {
      "cell_type": "code",
      "metadata": {
        "id": "gP4vwfQk8Nhd",
        "colab_type": "code",
        "outputId": "20fda863-f6e5-4fc8-a13f-672cc8f430f7",
        "colab": {
          "base_uri": "https://localhost:8080/",
          "height": 34
        }
      },
      "source": [
        "A = ((1.0/x)+1)\n",
        "B = (x-(1.0/x))\n",
        "C = A/B\n",
        "factor(C)"
      ],
      "execution_count": 0,
      "outputs": [
        {
          "output_type": "execute_result",
          "data": {
            "text/plain": [
              "1.0/(1.0*x - 1.0)"
            ]
          },
          "metadata": {
            "tags": []
          },
          "execution_count": 12
        }
      ]
    }
  ]
}